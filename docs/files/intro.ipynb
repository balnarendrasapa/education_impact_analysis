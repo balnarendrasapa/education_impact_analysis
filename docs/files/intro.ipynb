{
 "cells": [
  {
   "cell_type": "markdown",
   "id": "468d9b77",
   "metadata": {},
   "source": [
    "# Education Impact Analysis using ANOVA"
   ]
  },
  {
   "cell_type": "markdown",
   "id": "2b6d1cba",
   "metadata": {},
   "source": [
    "<font size=\"4\"> <center> <br /> <br /> **REPORT ON:** </center> </font>\n",
    "## <center> ANOVA Analysis </center>\n",
    "<font size=\"4\"> <center> **FOR:** </center> </font>\n",
    "## <center> Introduction to Data Science - 6002 (Section 02) </center>\n",
    "<center> \n",
    "    <font size=\"3\"> <br /> <br /> <b> Submitted by TEAM 09: </b>\n",
    "        <br /> Jainam Shah\n",
    "        <br /> Singala Sri Sai\n",
    "        <br /> Sapa Bal Narendra\n",
    "        <br /> Sanvelly Vamshi Kanth Reddy\n",
    "    </font>\n",
    "    <font size=\"3\"> <br /> <br /> <br /> <b> Under the guidance of: </b>\n",
    "        <br /> Minkyu Kim (Adjunct Faculty) <br />\n",
    "    </font>\n",
    "</center>\n",
    "\n",
    "---"
   ]
  },
  {
   "cell_type": "markdown",
   "id": "acf123de",
   "metadata": {},
   "source": [
    "# ABSTRACT\n",
    "\n",
    "### Background:\n",
    "> We are given a dataset which has records of people with different levels of education i.e. Less than high school, High School, Jr College, Bachelor's, and Graduate along with the scores regarding their performance. Hence, people in the dataset are categorized into 5 different groups based on their level of education.\n",
    "### Purpose:\n",
    "> We want to identify whether the scores of people belonging to different levels of education are same or not. We can also phrase the question as is there any significant relevance of education on a person's score? If we were to pick people randomly from the given dataset for each group, is there a difference among their scores? If yes, is it due to some significant reasons (level of education) or due to randomness? \n",
    "### Methods:\n",
    "> We conducted analysis using ANOVA to compare the means of each group. As the number of groups are more than 2, we cannot use the T-Test or the Z-Test, as it would require n(n-1)/2 number of pariwise tests, increasing type-1 error rate. We first performed Exploratory Data Analysis (EDA) to prepare the dataset for anova and confirmed the intuitive assumptions regarding the data. We then formulated the hypothesis for ANOVA where the null hypothesis was that there is no difference among the means of the groups and the alterante hypothesis was atleast 1 group has different mean.\n",
    "### Results:\n",
    "> Based on our analysis, as the p-value was less than significance level and also the F-Statistic was greater than the F-Critical value, we rejected the null hypothesis in favour of the alternate hypothesis.\n",
    "### Conclusion:\n",
    "> With significant evidence, we can conclude that there is indeed difference among the means of groups (based on level of education) and that it is not due to randomness. Out of the 5 given groups, we found the following 2 pairs of groups to have different means: 1) \"Less than high school\" - \"Graduate\" and 2) \"Less than high school\" - \"Bachelor's\". Hence, we can say that people who have completed their Graduation or Bachelor's have different score than those who did not pass high school."
   ]
  },
  {
   "cell_type": "markdown",
   "id": "ea743110",
   "metadata": {},
   "source": [
    "---\n",
    "# THEORY\n",
    "\n",
    "### What is ANOVA?\n",
    "> ANOVA (Analysis of Variance) is a statistical analysis technique that divides systematic components from random factors to account for the observed aggregate variability within a data set. The presented data set is statistically affected by the systematic factors but not by the random ones. The ANOVA test is used by analyst to evaluate the impact of independent factors on the dependent variables in a regression analysis. ANOVA is also called as Fisher Analysis of variance and it is the extension of the t-test and z-test.\n",
    "### Types of ANOVA:\n",
    "> 1. One-way ANOVA <br />\n",
    "> 2. Two-way ANOVA <br />\n",
    "> 3. N-way ANOVA\n",
    "### ANOVA Assumptions:\n",
    "> 1. Normally distributed population derives different group samples. <br />\n",
    "> 2. The sample or distribution has a homogenous variance <br />\n",
    "> 3. Analyst draw all the data in a sample independently.\n",
    "### ANOVA Formula: \n",
    "> ANOVA coefficient (F) = Mean sum of squares between the groups / Mean squares of Errors. <br /> <br />\n",
    "> $ F = \\frac{MSG}{MSE} $\n",
    "### INTERPRETATIONS:\n",
    "> The following is how the analyst can interpret the outcomes of the ANOVA test. The P-value is the ANOVA test’s most significant value. ANOVA test uses null hypothesis and alternative hypothesis. According to null hypothesis H0, all group means are equal and alternative hypothesis indicates that all the group means are not equal. When the p-value is less than 0.05 (or the specified significance level) analyst will reject the null hypothesis. Null hypothesis is accepted when the p-value is greater than 0.05 (or the specified significance level). Group means are not equal when analyst reject the null hypothesis\n",
    "\n",
    "\n",
    "---"
   ]
  },
  {
   "cell_type": "markdown",
   "id": "1fac11c4",
   "metadata": {},
   "source": [
    "# EXPLORATORY DATA ANALYSIS"
   ]
  },
  {
   "cell_type": "code",
   "execution_count": 1,
   "id": "634bedfc",
   "metadata": {},
   "outputs": [
    {
     "name": "stderr",
     "output_type": "stream",
     "text": [
      "<frozen importlib._bootstrap>:228: RuntimeWarning: scipy._lib.messagestream.MessageStream size changed, may indicate binary incompatibility. Expected 56 from C header, got 64 from PyObject\n"
     ]
    }
   ],
   "source": [
    "### Import required libraries\n",
    "import math\n",
    "import numpy as np\n",
    "import pandas as pd\n",
    "import seaborn as sns\n",
    "from scipy import stats\n",
    "from sqlite3 import connect\n",
    "import matplotlib.pyplot as plt\n",
    "%matplotlib inline\n",
    "\n",
    "# Ignore Warnings\n",
    "import warnings\n",
    "warnings.filterwarnings('ignore')\n",
    "\n",
    "### Required constants\n",
    "DB_PATH = \"../../dataset/dataset.db\"\n",
    "TABLE_NAME = \"prj1\""
   ]
  },
  {
   "cell_type": "markdown",
   "id": "86c548ce",
   "metadata": {},
   "source": [
    "#### Read the database from .db file"
   ]
  },
  {
   "cell_type": "code",
   "execution_count": 3,
   "id": "69fe392b",
   "metadata": {},
   "outputs": [
    {
     "name": "stdout",
     "output_type": "stream",
     "text": [
      "      index  Less than HS    45\n",
      "0         0  Less than HS  26.0\n",
      "1         1  Less than HS  43.8\n",
      "2         2  Less than HS  34.4\n",
      "3         3  Less than HS  76.2\n",
      "4         4  Less than HS   0.2\n",
      "...     ...           ...   ...\n",
      "1166   1166      Graduate  52.7\n",
      "1167   1167      Graduate  59.8\n",
      "1168   1168      Graduate  54.1\n",
      "1169   1169      Graduate  39.9\n",
      "1170   1170      Graduate  58.2\n",
      "\n",
      "[1171 rows x 3 columns]\n"
     ]
    }
   ],
   "source": [
    "### Connect to sqlite3 database\n",
    "connection = connect(DB_PATH)\n",
    "\n",
    "### Create pandas dataframe for analysis\n",
    "query = \"SELECT * FROM \" + TABLE_NAME\n",
    "df = pd.read_sql(query, connection)\n",
    "print(df)"
   ]
  },
  {
   "cell_type": "markdown",
   "id": "6254ded7",
   "metadata": {},
   "source": [
    "#### Metadata - Information regarding the columns of dataset"
   ]
  },
  {
   "cell_type": "code",
   "execution_count": 3,
   "id": "c36ef1da",
   "metadata": {},
   "outputs": [
    {
     "name": "stdout",
     "output_type": "stream",
     "text": [
      "<class 'pandas.core.frame.DataFrame'>\n",
      "RangeIndex: 1171 entries, 0 to 1170\n",
      "Data columns (total 3 columns):\n",
      " #   Column        Non-Null Count  Dtype  \n",
      "---  ------        --------------  -----  \n",
      " 0   index         1171 non-null   int64  \n",
      " 1   Less than HS  1171 non-null   object \n",
      " 2   45            1160 non-null   float64\n",
      "dtypes: float64(1), int64(1), object(1)\n",
      "memory usage: 27.6+ KB\n"
     ]
    }
   ],
   "source": [
    "df.info()"
   ]
  },
  {
   "cell_type": "markdown",
   "id": "d4658103",
   "metadata": {},
   "source": [
    "#### Modify column names / types"
   ]
  },
  {
   "cell_type": "code",
   "execution_count": 4,
   "id": "20c25bdc",
   "metadata": {},
   "outputs": [
    {
     "name": "stdout",
     "output_type": "stream",
     "text": [
      "  Education Level  Score\n",
      "0    Less than HS   26.0\n",
      "1    Less than HS   43.8\n",
      "2    Less than HS   34.4\n",
      "3    Less than HS   76.2\n",
      "4    Less than HS    0.2\n"
     ]
    }
   ],
   "source": [
    "df.rename(columns = {\"Less than HS\": \"Education Level\", \"45\": \"Score\"}, inplace = True)\n",
    "df.drop(columns = [\"index\"], inplace = True)\n",
    "print(df.head())"
   ]
  },
  {
   "cell_type": "markdown",
   "id": "4a78590a",
   "metadata": {},
   "source": [
    "#### Basic stats about each numerical feature"
   ]
  },
  {
   "cell_type": "code",
   "execution_count": 5,
   "id": "95402115",
   "metadata": {},
   "outputs": [
    {
     "name": "stdout",
     "output_type": "stream",
     "text": [
      "             Score\n",
      "count  1160.000000\n",
      "mean     40.726724\n",
      "std      15.166281\n",
      "min       0.200000\n",
      "25%      30.300000\n",
      "50%      41.000000\n",
      "75%      51.325000\n",
      "max      86.400000\n"
     ]
    }
   ],
   "source": [
    "print(df.describe())"
   ]
  },
  {
   "cell_type": "markdown",
   "id": "37f4d328",
   "metadata": {},
   "source": [
    "#### Unique values for the categorical featue"
   ]
  },
  {
   "cell_type": "code",
   "execution_count": 8,
   "id": "a65bbdd1",
   "metadata": {},
   "outputs": [
    {
     "name": "stdout",
     "output_type": "stream",
     "text": [
      "Following are the unique values corresponding to the feature 'Education Level' :\n",
      "1 Less than HS\n",
      "2 HS\n",
      "3 Jr Coll\n",
      "4 Bachelor's\n",
      "5 Graduate\n"
     ]
    }
   ],
   "source": [
    "print(\"Following are the unique values corresponding to the feature 'Education Level' :\")\n",
    "for idx, edu_lvl in enumerate(df['Education Level'].unique()):\n",
    "    print(str(idx + 1) + \" \" + edu_lvl)"
   ]
  },
  {
   "cell_type": "markdown",
   "id": "3a134128",
   "metadata": {},
   "source": [
    "#### Visualize unique values count"
   ]
  },
  {
   "cell_type": "code",
   "execution_count": 9,
   "id": "0dcd6f17",
   "metadata": {},
   "outputs": [
    {
     "data": {
      "text/plain": [
       "Text(0, 0.5, 'Count')"
      ]
     },
     "execution_count": 9,
     "metadata": {},
     "output_type": "execute_result"
    },
    {
     "data": {
      "image/png": "[encoded data removed]",
      "text/plain": [
       "<Figure size 576x432 with 1 Axes>"
      ]
     },
     "metadata": {
      "needs_background": "light"
     },
     "output_type": "display_data"
    }
   ],
   "source": [
    "fig, ax = plt.subplots(figsize= (8, 6))\n",
    "\n",
    "sns.countplot(df['Education Level'], ax = ax)\n",
    "ax.set_ylabel(\"Count\")"
   ]
  },
  {
   "cell_type": "markdown",
   "id": "d3a7cedc",
   "metadata": {},
   "source": [
    "#### Handle null / missing values"
   ]
  },
  {
   "cell_type": "code",
   "execution_count": 10,
   "id": "700d811a",
   "metadata": {},
   "outputs": [
    {
     "name": "stdout",
     "output_type": "stream",
     "text": [
      "Following are the null values corresponding to each value of 'Education Level' :\n",
      "1 Less than HS 2\n",
      "2 HS 5\n",
      "3 Jr Coll 1\n",
      "4 Bachelor's 1\n",
      "5 Graduate 2\n",
      "Total Null Values:  11\n"
     ]
    }
   ],
   "source": [
    "### Null values for each category\n",
    "print(\"Following are the null values corresponding to each value of 'Education Level' :\")\n",
    "for idx, edu_lvl in enumerate(df['Education Level'].unique()):\n",
    "    print(str(idx + 1) + \" \" + edu_lvl + \" \" + str(df[df['Education Level'] == edu_lvl].isna().sum()[1]))\n",
    "\n",
    "print(\"Total Null Values: \", df.isna().sum()[1])    "
   ]
  },
  {
   "cell_type": "code",
   "execution_count": 7,
   "id": "9afc5558",
   "metadata": {},
   "outputs": [
    {
     "data": {
      "image/png": "[encoded data removed]",
      "text/plain": [
       "<Figure size 800x600 with 1 Axes>"
      ]
     },
     "metadata": {},
     "output_type": "display_data"
    }
   ],
   "source": [
    "### Visualize each value's distribution\n",
    "temp_frames = []\n",
    "fig, ax = plt.subplots(figsize= (8, 6))\n",
    "\n",
    "for idx, edu_lvl in enumerate(df['Education Level'].unique()):\n",
    "    temp_frames.append(df[df['Education Level'] == edu_lvl].drop(columns = \\\n",
    "                                ['Education Level']).rename(columns = {\"Score\": edu_lvl}))\n",
    "\n",
    "temp_df = pd.concat(temp_frames).reset_index(drop = True)\n",
    "axis = sns.boxplot(x = \"variable\", y = \"value\", data = pd.melt(temp_df), ax = ax)\n",
    "axis.set(xlabel = 'Education Level', ylabel = 'Score')\n",
    "plt.show()"
   ]
  },
  {
   "cell_type": "code",
   "execution_count": 8,
   "id": "0f79bd83",
   "metadata": {},
   "outputs": [
    {
     "name": "stdout",
     "output_type": "stream",
     "text": [
      "       Less than HS          HS    Jr Coll  Bachelor's    Graduate\n",
      "count    118.000000  541.000000  96.000000  252.000000  153.000000\n",
      "mean      36.528814   40.123105  41.004167   42.130556   43.612418\n",
      "std       15.668517   14.886300  18.925799   13.480890   15.066123\n",
      "min        0.200000    3.100000   4.700000    0.500000    1.800000\n",
      "25%       27.600000   29.600000  26.525000   33.350000   32.600000\n",
      "50%       36.400000   40.400000  42.450000   43.050000   44.800000\n",
      "75%       45.300000   51.000000  57.025000   51.200000   54.200000\n",
      "max       86.100000   86.300000  86.400000   83.900000   81.000000\n"
     ]
    }
   ],
   "source": [
    "### Basic stats for each category in Education Level\n",
    "print(temp_df.describe())"
   ]
  },
  {
   "cell_type": "code",
   "execution_count": 9,
   "id": "ce8e2b41",
   "metadata": {},
   "outputs": [
    {
     "name": "stdout",
     "output_type": "stream",
     "text": [
      "     Education Level  Score\n",
      "0       Less than HS   26.0\n",
      "1       Less than HS   43.8\n",
      "2       Less than HS   34.4\n",
      "3       Less than HS   76.2\n",
      "4       Less than HS    0.2\n",
      "...              ...    ...\n",
      "1166        Graduate   52.7\n",
      "1167        Graduate   59.8\n",
      "1168        Graduate   54.1\n",
      "1169        Graduate   39.9\n",
      "1170        Graduate   58.2\n",
      "\n",
      "[1171 rows x 2 columns]\n"
     ]
    }
   ],
   "source": [
    "### Mean value might not be an accurate measure for missing values due to outliers, so we are using median value\n",
    "for frame in temp_frames:\n",
    "    frame.fillna(frame.median(), inplace = True)\n",
    "\n",
    "temp_df = pd.concat(temp_frames).reset_index(drop = True)\n",
    "df = pd.melt(temp_df).dropna().reset_index(drop = True).rename(columns = \\\n",
    "                                                {\"variable\": \"Education Level\", \"value\": \"Score\"})\n",
    "print(df)"
   ]
  },
  {
   "cell_type": "markdown",
   "id": "b916329f",
   "metadata": {},
   "source": [
    "#### Visualize histogram of each category"
   ]
  },
  {
   "cell_type": "code",
   "execution_count": 14,
   "id": "e831193c",
   "metadata": {},
   "outputs": [
    {
     "data": {
      "image/png": "[encoded data removed]",
      "text/plain": [
       "<Figure size 1152x1152 with 5 Axes>"
      ]
     },
     "metadata": {
      "needs_background": "light"
     },
     "output_type": "display_data"
    }
   ],
   "source": [
    "### Matplot lib subplots\n",
    "figure, axes = plt.subplots(3, 2, figsize=(16, 16))\n",
    "\n",
    "# Less than HS\n",
    "axes[0][0].hist(temp_frames[0])\n",
    "axes[0][0].set_xlabel(\"Score\")\n",
    "axes[0][0].set_ylabel(\"Count\")\n",
    "axes[0][0].set_title(\"Less than HS\")\n",
    "\n",
    "# HS\n",
    "axes[0][1].hist(temp_frames[1])\n",
    "axes[0][1].set_xlabel(\"Score\")\n",
    "axes[0][1].set_ylabel(\"Count\")\n",
    "axes[0][1].set_title(\"HS\")\n",
    "\n",
    "# Jr Coll\n",
    "axes[1][0].hist(temp_frames[2])\n",
    "axes[1][0].set_xlabel(\"Score\")\n",
    "axes[1][0].set_ylabel(\"Count\")\n",
    "axes[1][0].set_title(\"Jr Coll\")\n",
    "\n",
    "# Bachelor's\n",
    "axes[1][1].hist(temp_frames[3])\n",
    "axes[1][1].set_xlabel(\"Score\")\n",
    "axes[1][1].set_ylabel(\"Count\")\n",
    "axes[1][1].set_title(\"Bachelor's\")\n",
    "\n",
    "# Graduate\n",
    "axes[2][0].hist(temp_frames[4])\n",
    "axes[2][0].set_xlabel(\"Score\")\n",
    "axes[2][0].set_ylabel(\"Count\")\n",
    "axes[2][0].set_title(\"Graduate\")\n",
    "\n",
    "figure.delaxes(axes[2][1])\n",
    "plt.show()"
   ]
  },
  {
   "cell_type": "markdown",
   "id": "f420686f",
   "metadata": {},
   "source": [
    "#### Density of each category using kde"
   ]
  },
  {
   "cell_type": "code",
   "execution_count": 15,
   "id": "37f2169c",
   "metadata": {},
   "outputs": [
    {
     "data": {
      "image/png": "[encoded data removed]",
      "text/plain": [
       "<Figure size 1152x1152 with 5 Axes>"
      ]
     },
     "metadata": {
      "needs_background": "light"
     },
     "output_type": "display_data"
    }
   ],
   "source": [
    "figure, axes = plt.subplots(3, 2, figsize=(16, 16))\n",
    "\n",
    "# Less than HS\n",
    "sns.distplot(temp_frames[0], ax = axes[0][0])\n",
    "axes[0][0].set_xlabel(\"Score\")\n",
    "axes[0][0].set_title(\"Less than HS\")\n",
    "\n",
    "# HS\n",
    "sns.distplot(temp_frames[1], ax = axes[0][1])\n",
    "axes[0][1].set_xlabel(\"Score\")\n",
    "axes[0][1].set_title(\"HS\")\n",
    "\n",
    "# Jr Coll\n",
    "sns.distplot(temp_frames[2], ax = axes[1][0])\n",
    "axes[1][0].set_xlabel(\"Score\")\n",
    "axes[1][0].set_title(\"Jr Coll\")\n",
    "\n",
    "# Bachelor's\n",
    "sns.distplot(temp_frames[3], ax = axes[1][1])\n",
    "axes[1][1].set_xlabel(\"Score\")\n",
    "axes[1][1].set_title(\"Bachelor's\")\n",
    "\n",
    "# Graduate\n",
    "sns.distplot(temp_frames[4], ax = axes[2][0])\n",
    "axes[2][0].set_xlabel(\"Score\")\n",
    "axes[2][0].set_title(\"Graduate\")\n",
    "\n",
    "figure.delaxes(axes[2][1])\n",
    "plt.show()\n"
   ]
  },
  {
   "cell_type": "markdown",
   "id": "d57d8a2e",
   "metadata": {},
   "source": [
    "---\n",
    "# ANOVA Analysis\n",
    "\n",
    "<br /> **Defining hypothesis for testing:** <br /> <br />\n",
    "*  Null Hypothesis  <br />\n",
    "\n",
    "    > $ H_0 $ = Means of all 5 groups are same, i.e. there is no significant difference among the means [ $ \\mu_1 = \\mu_2 = \\mu_3 = \\mu_4 = \\mu_5 $ ]<br />\n",
    "    \n",
    "\n",
    "*  Alternative Hypothesis <br />\n",
    "\n",
    "    > $ H_A $ = Mean of atleast 1 group is different\n",
    "    \n",
    "---"
   ]
  },
  {
   "cell_type": "markdown",
   "id": "27d6185d",
   "metadata": {},
   "source": [
    "#### If F-Statistic is greater than F-Critical value, we reject the null hypothesis."
   ]
  },
  {
   "cell_type": "code",
   "execution_count": 16,
   "id": "b0a4044e",
   "metadata": {},
   "outputs": [
    {
     "name": "stdout",
     "output_type": "stream",
     "text": [
      "F-Critical Value:  2.38\n"
     ]
    }
   ],
   "source": [
    "### Degrees of Freedom\n",
    "dfs = temp_frames\n",
    "df_b = len(dfs) - 1 # For b/w groups = k - 1 where k is number of groups\n",
    "df_w = len(df) - len(dfs) # For within groups = N - k where N is total samples from all groups and k is number of groups\n",
    "\n",
    "### F-Critical Value\n",
    "F_CR = stats.f.ppf(0.95, df_b, df_w) # Using alpha = 0.05 (significance level)\n",
    "print(\"F-Critical Value: \", round(F_CR, 2))"
   ]
  },
  {
   "cell_type": "code",
   "execution_count": 17,
   "id": "56dae9a0",
   "metadata": {},
   "outputs": [],
   "source": [
    "### Creating temp dataframes for each group\n",
    "df_lhs = temp_df['Less than HS'].dropna()\n",
    "df_hs = temp_df['HS'].dropna()\n",
    "df_jrc = temp_df['Jr Coll'].dropna()\n",
    "df_bs = temp_df[\"Bachelor's\"].dropna()\n",
    "df_gr = temp_df[\"Graduate\"].dropna()"
   ]
  },
  {
   "cell_type": "markdown",
   "id": "18666da1",
   "metadata": {},
   "source": [
    "#### Calculating means for MSG and MSE"
   ]
  },
  {
   "cell_type": "code",
   "execution_count": 19,
   "id": "0dd18bad",
   "metadata": {},
   "outputs": [
    {
     "name": "stdout",
     "output_type": "stream",
     "text": [
      "Mean for group 'Less than HS' \t: 36.53\n",
      "Mean for group 'HS' \t\t: 40.13\n",
      "Mean for group 'Jr Coll' \t: 41.02\n",
      "Mean for group 'Less than HS' \t: 42.13\n",
      "Mean for group 'Less than HS' \t: 43.63\n",
      "Overall mean \t\t\t: 40.73\n"
     ]
    }
   ],
   "source": [
    "### Mean for each group and overall\n",
    "mean_lhs = df_lhs.mean()\n",
    "mean_hs = df_hs.mean()\n",
    "mean_jrc = df_jrc.mean()\n",
    "mean_bs = df_bs.mean()\n",
    "mean_gr = df_gr.mean()\n",
    "mean_overall = df[\"Score\"].mean()\n",
    "\n",
    "print(\"Mean for group 'Less than HS' \\t:\", round(mean_lhs, 2))\n",
    "print(\"Mean for group 'HS' \\t\\t:\", round(mean_hs, 2))\n",
    "print(\"Mean for group 'Jr Coll' \\t:\", round(mean_jrc, 2))\n",
    "print(\"Mean for group 'Less than HS' \\t:\", round(mean_bs, 2))\n",
    "print(\"Mean for group 'Less than HS' \\t:\", round(mean_gr, 2))\n",
    "print(\"Overall mean \\t\\t\\t:\", round(mean_overall, 2))"
   ]
  },
  {
   "cell_type": "markdown",
   "id": "dd432466",
   "metadata": {},
   "source": [
    "#### Calculating MSG and MSE for F-Statistic"
   ]
  },
  {
   "cell_type": "code",
   "execution_count": 20,
   "id": "6cc1df2b",
   "metadata": {},
   "outputs": [],
   "source": [
    "### Util function for calculating sum_squred for each group\n",
    "def sum_squared_within(series, mean):\n",
    "    sum = 0\n",
    "    for item in series:\n",
    "        sum += (item - mean) ** 2\n",
    "    return sum\n",
    "\n",
    "def sum_squared_between(dfs, means, mean_overall):\n",
    "    sum = 0\n",
    "    for idx, _df in enumerate(dfs):\n",
    "        sum += len(_df) * ((means[idx] - mean_overall) ** 2)\n",
    "    return sum"
   ]
  },
  {
   "cell_type": "code",
   "execution_count": 21,
   "id": "a65ee301",
   "metadata": {},
   "outputs": [
    {
     "name": "stdout",
     "output_type": "stream",
     "text": [
      "Sum Squared Between (SSB):  4128.06\n",
      "Sum Squared Error (SSE):  262540.11\n",
      "Sum Squared Total (SST):  266668.17\n"
     ]
    }
   ],
   "source": [
    "dfs = [df_lhs, df_hs, df_jrc, df_bs, df_gr]\n",
    "means = [mean_lhs, mean_hs, mean_jrc, mean_bs, mean_gr]\n",
    "\n",
    "ss_lhs = sum_squared_within(df_lhs, mean_lhs)\n",
    "ss_hs = sum_squared_within(df_hs, mean_hs)\n",
    "ss_jrc = sum_squared_within(df_jrc, mean_jrc)\n",
    "ss_bs = sum_squared_within(df_bs, mean_bs)\n",
    "ss_gr = sum_squared_within(df_gr, mean_gr)\n",
    "\n",
    "SSE = ss_lhs + ss_hs + ss_jrc + ss_bs + ss_gr\n",
    "SSB = sum_squared_between(dfs, means, mean_overall)\n",
    "SST = SSE + SSB\n",
    "print(\"Sum Squared Between (SSB): \", round(SSB, 2))\n",
    "print(\"Sum Squared Error (SSE): \", round(SSE, 2))\n",
    "print(\"Sum Squared Total (SST): \", round(SST, 2))"
   ]
  },
  {
   "cell_type": "code",
   "execution_count": 22,
   "id": "386b33e2",
   "metadata": {},
   "outputs": [],
   "source": [
    "### MSG and MSE\n",
    "MSG = SSB / df_b\n",
    "MSE = SSE / df_w"
   ]
  },
  {
   "cell_type": "markdown",
   "id": "f9c01cf5",
   "metadata": {},
   "source": [
    "#### Calculating F-Statistic ($ F = \\frac{MSG}{MSE} $) and p-value"
   ]
  },
  {
   "cell_type": "code",
   "execution_count": 23,
   "id": "e099de7a",
   "metadata": {},
   "outputs": [],
   "source": [
    "F = MSG / MSE\n",
    "p_val = stats.f.sf(F, df_b, df_w)"
   ]
  },
  {
   "cell_type": "markdown",
   "id": "00627340",
   "metadata": {},
   "source": [
    "#### ANOVA Analysis Table"
   ]
  },
  {
   "cell_type": "code",
   "execution_count": 24,
   "id": "b12a23cc",
   "metadata": {},
   "outputs": [
    {
     "name": "stdout",
     "output_type": "stream",
     "text": [
      "\t\t\t sum_sq \t df \t\t F \t PR(>F)\n",
      "Between Groups \t\t 4128.06\t4\t\t4.58\t0.00112\n",
      "Within Groups \t\t 262540.11\t1166\t\t\n",
      "Total \t\t\t 266668.17\t1170\t\t\n"
     ]
    }
   ],
   "source": [
    "print (\"\\t\\t\\t sum_sq \\t df \\t\\t F \\t PR(>F)\")\n",
    "print(\"Between Groups \\t\\t \" + str(round(SSB, 2)) + \"\\t\" + str(df_b) + \"\\t\\t\" + \\\n",
    "      str(round(F, 2)) + \"\\t\" + str(round(p_val, 5)))\n",
    "print(\"Within Groups \\t\\t \" + str(round(SSE, 2)) + \"\\t\" + str(df_w) + \"\\t\\t\")\n",
    "print(\"Total \\t\\t\\t \" + str(round(SST, 2)) + \"\\t\" + str(df_w + df_b) + \"\\t\\t\")"
   ]
  },
  {
   "cell_type": "markdown",
   "id": "b1b40b7a",
   "metadata": {},
   "source": [
    "#### As the F-Statistic is greater than the F-Critical value (4.58 > 2.38), [also the p-value is less than alpha (0.00112 < 0.05)] we reject the null hypothesis. Hence, the mean of atleast one group is different. \n",
    "\n",
    "#### To check which pairs of groups have different means, we need to perform multiple pairwise comparisons."
   ]
  },
  {
   "cell_type": "markdown",
   "id": "8eb15505",
   "metadata": {},
   "source": [
    "#### Pairwise Comparisons"
   ]
  },
  {
   "cell_type": "code",
   "execution_count": 25,
   "id": "9e45dda5",
   "metadata": {},
   "outputs": [],
   "source": [
    "### Creating a util function to perform t-test\n",
    "def t_test(dfA, dfB, K, alpha = 0.05):\n",
    "    h0 = 0 # Null Value\n",
    "    SE = math.sqrt(((dfA.std() ** 2) / len(dfA)) + ((dfB.std() ** 2) / len(dfB))) # Standard Error\n",
    "    T = abs(dfA.mean() - dfB.mean() - h0) / SE # T-Value =  diff - h0 / SE\n",
    "    df = min(len(dfA) - 1, len(dfB) - 1) # Degrees of Freedom = min(n1-1, n2-1)\n",
    "    p_val = stats.t.sf(T, df)\n",
    "    rejectH0 = p_val < (alpha / K) # Bonferroni Correction:alpha* = alpha / K where K = k(k-1) / 2 and k = number of groups\n",
    "    return (SE, T, df, p_val, rejectH0)"
   ]
  },
  {
   "cell_type": "code",
   "execution_count": 26,
   "id": "35d60dc7",
   "metadata": {},
   "outputs": [
    {
     "name": "stdout",
     "output_type": "stream",
     "text": [
      "Group1:Group2 \t\t Std. Err. \t\t T \t\t  p-val \t alpha* \t  Reject H0\n",
      "BS:GR\t\t\t1.47\t\t\t1.016\t\t0.1556\t\t0.005\t\tFalse\n",
      "BS:HS\t\t\t1.0572\t\t\t1.8999\t\t0.0293\t\t0.005\t\tFalse\n",
      "BS:JRC\t\t\t2.0904\t\t\t0.5334\t\t0.2975\t\t0.005\t\tFalse\n",
      "BS:LHS\t\t\t1.6513\t\t\t3.3957\t\t0.0005\t\t0.005\t\tTrue\n",
      "GR:HS\t\t\t1.3593\t\t\t2.5764\t\t0.0055\t\t0.005\t\tFalse\n",
      "GR:JRC\t\t\t2.2583\t\t\t1.1551\t\t0.1254\t\t0.005\t\tFalse\n",
      "GR:LHS\t\t\t1.8593\t\t\t3.8192\t\t0.0001\t\t0.005\t\tTrue\n",
      "HS:JRC\t\t\t2.0141\t\t\t0.4436\t\t0.3292\t\t0.005\t\tFalse\n",
      "HS:LHS\t\t\t1.5536\t\t\t2.3166\t\t0.0111\t\t0.005\t\tFalse\n",
      "JRC:LHS\t\t\t2.3803\t\t\t1.8873\t\t0.0311\t\t0.005\t\tFalse\n"
     ]
    }
   ],
   "source": [
    "### Pairs for comparisons\n",
    "pairs = [\n",
    "    \"BS:GR\",\n",
    "    \"BS:HS\",\n",
    "    \"BS:JRC\",\n",
    "    \"BS:LHS\",\n",
    "    \"GR:HS\",\n",
    "    \"GR:JRC\",\n",
    "    \"GR:LHS\",\n",
    "    \"HS:JRC\",\n",
    "    \"HS:LHS\",\n",
    "    \"JRC:LHS\"\n",
    "]\n",
    "\n",
    "pairs_df = {\n",
    "    \"BS\": df_bs,\n",
    "    \"GR\": df_gr,\n",
    "    \"HS\": df_hs,\n",
    "    \"JRC\": df_jrc,\n",
    "    \"LHS\": df_lhs,\n",
    "}\n",
    "\n",
    "print(\"Group1:Group2 \\t\\t Std. Err. \\t\\t T \\t\\t  p-val \\t alpha* \\t  Reject H0\")\n",
    "K = (len(dfs) * (len(dfs) - 1)) / 2 # k*(k-1)/2 where k=number of groups-Bonferroni Correction for comparing multiple means\n",
    "                                \n",
    "for pair in pairs:\n",
    "    SE, T, _, p_val, rejectH0 = t_test(pairs_df[pair.split(\":\")[0]], pairs_df[pair.split(\":\")[1]], K)\n",
    "    print(pair + \"\\t\\t\\t\" + str(round(SE,4)) + \"\\t\\t\\t\" + str(round(T, 4)) + \"\\t\\t\" + \\\n",
    "          str(round(p_val, 4)) + \"\\t\\t\" + str(0.05 / K) + \"\\t\\t\" + str(rejectH0))"
   ]
  },
  {
   "cell_type": "markdown",
   "id": "79e4e039",
   "metadata": {},
   "source": [
    "#### Based on the pairwise comparisons, we can conclude that pairs of groups 1) \"Bachelor's and Less than HS\" and 2) \"Graduate and Less than HS\" have different means."
   ]
  },
  {
   "cell_type": "markdown",
   "id": "b4320a07",
   "metadata": {},
   "source": [
    "#### Confirming with homogenity tests"
   ]
  },
  {
   "cell_type": "code",
   "execution_count": 27,
   "id": "4a107433",
   "metadata": {
    "scrolled": true
   },
   "outputs": [
    {
     "name": "stdout",
     "output_type": "stream",
     "text": [
      "Bartlett's Test:\tw:17.5776, pvalue: 0.0015\n",
      "Levene's Test:\t\tw: 5.4545, pvalue: 0.0002\n"
     ]
    }
   ],
   "source": [
    "# Homogeneity using Bartlett & Levene Tests\n",
    "w, pvalue = stats.bartlett(df['Score'][df['Education Level'] == 'Less than HS'],\n",
    "                          df['Score'][df['Education Level'] == 'HS'],\n",
    "                           df['Score'][df['Education Level'] == 'Jr Coll'],\n",
    "                          df['Score'][df['Education Level'] == \"Bachelor's\"],\n",
    "                          df['Score'][df['Education Level'] == 'Graduate'])\n",
    "\n",
    "print(\"Bartlett's Test:\\tw:{:7.4f}, pvalue:{:7.4f}\".format(w, pvalue))\n",
    "\n",
    "w, pvalue = stats.levene(temp_df['Less than HS'].dropna(), \\\n",
    "        temp_df['HS'].dropna(), temp_df['Jr Coll'].dropna(), temp_df[\"Bachelor's\"].dropna(), temp_df['Graduate'].dropna())\n",
    "print(\"Levene's Test:\\t\\tw:{:7.4f}, pvalue:{:7.4f}\".format(w, pvalue))"
   ]
  },
  {
   "cell_type": "markdown",
   "id": "81723661",
   "metadata": {},
   "source": [
    "#### As the Bartlett's test and Levene's Test both have p-value < alpha* (0.005), we can conclude that our ANOVA analysis is true."
   ]
  },
  {
   "cell_type": "markdown",
   "id": "37e8d185",
   "metadata": {},
   "source": [
    "---\n",
    "# FINAL CONCLUSION\n",
    "We reject the null hypothesis (means of all the groups are same), and there is indeed significant difference among the means of the groups. In layman terms, there is significant difference amonog the scores of individuals exposed to different levels of education. <br />\n",
    "\n",
    "To be more specific, people who completed their bachelors had significantly different score than those who did not passed high school. Those who completed their graduation also had significantly different score from those who did not passed high school. Based on multiple pairwise comparisons, we could not find significance difference among the rest of the pairs of groups."
   ]
  }
 ],
 "metadata": {
  "kernelspec": {
   "display_name": "Python 3 (ipykernel)",
   "language": "python",
   "name": "python3"
  },
  "language_info": {
   "codemirror_mode": {
    "name": "ipython",
    "version": 3
   },
   "file_extension": ".py",
   "mimetype": "text/x-python",
   "name": "python",
   "nbconvert_exporter": "python",
   "pygments_lexer": "ipython3",
   "version": "3.9.13"
  }
 },
 "nbformat": 4,
 "nbformat_minor": 5
}
